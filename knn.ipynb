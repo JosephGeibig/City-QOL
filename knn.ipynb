{
 "cells": [
  {
   "cell_type": "code",
   "execution_count": 26,
   "metadata": {},
   "outputs": [],
   "source": [
    "import numpy as np\n",
    "import pandas as pd\n",
    "import math"
   ]
  },
  {
   "cell_type": "code",
   "execution_count": 3,
   "metadata": {},
   "outputs": [],
   "source": [
    "def pairwise_dist(x, y):  # [5 pts]\n",
    "    \"\"\"\n",
    "        Args:\n",
    "            x: N x D numpy array\n",
    "            y: M x D numpy array\n",
    "        Return:\n",
    "                dist: N x M array, where dist2[i, j] is the euclidean distance between\n",
    "                x[i, :] and y[j, :]\n",
    "    \"\"\"\n",
    "    #raise NotImplementedError\n",
    "    return np.linalg.norm(x[:, None, :] - y[None, :, :], axis=-1)"
   ]
  },
  {
   "cell_type": "code",
   "execution_count": 4,
   "metadata": {},
   "outputs": [],
   "source": [
    "cities = pd.read_csv(\"data/gdata_standardized.csv\")"
   ]
  },
  {
   "cell_type": "code",
   "execution_count": 17,
   "metadata": {},
   "outputs": [
    {
     "data": {
      "text/html": [
       "<div>\n",
       "<style scoped>\n",
       "    .dataframe tbody tr th:only-of-type {\n",
       "        vertical-align: middle;\n",
       "    }\n",
       "\n",
       "    .dataframe tbody tr th {\n",
       "        vertical-align: top;\n",
       "    }\n",
       "\n",
       "    .dataframe thead th {\n",
       "        text-align: right;\n",
       "    }\n",
       "</style>\n",
       "<table border=\"1\" class=\"dataframe\">\n",
       "  <thead>\n",
       "    <tr style=\"text-align: right;\">\n",
       "      <th></th>\n",
       "      <th>city_id</th>\n",
       "      <th>State Abbreviation</th>\n",
       "      <th>City</th>\n",
       "      <th>County Name</th>\n",
       "      <th>State</th>\n",
       "      <th>County</th>\n",
       "      <th>lat</th>\n",
       "      <th>lng</th>\n",
       "    </tr>\n",
       "  </thead>\n",
       "  <tbody>\n",
       "    <tr>\n",
       "      <th>0</th>\n",
       "      <td>0</td>\n",
       "      <td>AL</td>\n",
       "      <td>Arab</td>\n",
       "      <td>Marshall County</td>\n",
       "      <td>Alabama</td>\n",
       "      <td>Marshall County</td>\n",
       "      <td>34.3309</td>\n",
       "      <td>-86.4991</td>\n",
       "    </tr>\n",
       "    <tr>\n",
       "      <th>1</th>\n",
       "      <td>1</td>\n",
       "      <td>AL</td>\n",
       "      <td>Attalla</td>\n",
       "      <td>Etowah County</td>\n",
       "      <td>Alabama</td>\n",
       "      <td>Etowah County</td>\n",
       "      <td>34.0050</td>\n",
       "      <td>-86.1039</td>\n",
       "    </tr>\n",
       "    <tr>\n",
       "      <th>2</th>\n",
       "      <td>2</td>\n",
       "      <td>AL</td>\n",
       "      <td>Auburn</td>\n",
       "      <td>Lee County</td>\n",
       "      <td>Alabama</td>\n",
       "      <td>Lee County</td>\n",
       "      <td>47.3039</td>\n",
       "      <td>-122.2108</td>\n",
       "    </tr>\n",
       "    <tr>\n",
       "      <th>3</th>\n",
       "      <td>3</td>\n",
       "      <td>AL</td>\n",
       "      <td>Auburn</td>\n",
       "      <td>Lee County</td>\n",
       "      <td>Alabama</td>\n",
       "      <td>Lee County</td>\n",
       "      <td>32.6087</td>\n",
       "      <td>-85.4903</td>\n",
       "    </tr>\n",
       "    <tr>\n",
       "      <th>4</th>\n",
       "      <td>4</td>\n",
       "      <td>AL</td>\n",
       "      <td>Auburn</td>\n",
       "      <td>Lee County</td>\n",
       "      <td>Alabama</td>\n",
       "      <td>Lee County</td>\n",
       "      <td>42.9338</td>\n",
       "      <td>-76.5685</td>\n",
       "    </tr>\n",
       "  </tbody>\n",
       "</table>\n",
       "</div>"
      ],
      "text/plain": [
       "   city_id State Abbreviation     City      County Name    State  \\\n",
       "0        0                 AL     Arab  Marshall County  Alabama   \n",
       "1        1                 AL  Attalla    Etowah County  Alabama   \n",
       "2        2                 AL   Auburn       Lee County  Alabama   \n",
       "3        3                 AL   Auburn       Lee County  Alabama   \n",
       "4        4                 AL   Auburn       Lee County  Alabama   \n",
       "\n",
       "            County      lat       lng  \n",
       "0  Marshall County  34.3309  -86.4991  \n",
       "1    Etowah County  34.0050  -86.1039  \n",
       "2       Lee County  47.3039 -122.2108  \n",
       "3       Lee County  32.6087  -85.4903  \n",
       "4       Lee County  42.9338  -76.5685  "
      ]
     },
     "execution_count": 17,
     "metadata": {},
     "output_type": "execute_result"
    }
   ],
   "source": [
    "meta_columns = ['Unnamed: 0', 'State Abbreviation', 'City', 'County Name', 'State', 'County', 'lat', 'lng']\n",
    "city_metadata = cities[meta_columns]\n",
    "city_metadata = city_metadata.rename(columns = {'Unnamed: 0':'city_id'})\n",
    "city_metadata.head()"
   ]
  },
  {
   "cell_type": "code",
   "execution_count": 38,
   "metadata": {},
   "outputs": [
    {
     "name": "stdout",
     "output_type": "stream",
     "text": [
      "   id  city_id     City    State           County State Abbreviation      lat  \\\n",
      "0   0        0     Arab  Alabama  Marshall County                 AL  34.3309   \n",
      "1   1        1  Attalla  Alabama    Etowah County                 AL  34.0050   \n",
      "2   2        2   Auburn  Alabama       Lee County                 AL  47.3039   \n",
      "3   3        3   Auburn  Alabama       Lee County                 AL  32.6087   \n",
      "4   4        4   Auburn  Alabama       Lee County                 AL  42.9338   \n",
      "\n",
      "        lng  \n",
      "0  -86.4991  \n",
      "1  -86.1039  \n",
      "2 -122.2108  \n",
      "3  -85.4903  \n",
      "4  -76.5685  \n"
     ]
    }
   ],
   "source": [
    "if False:\n",
    "    city_metadata[['city_id', 'City', 'State', 'County', 'State Abbreviation', 'lat', 'lng']].to_csv('data/city_metadata.csv')\n",
    "if True:\n",
    "    print(pd.read_csv('data/city_metadata.csv').head())"
   ]
  },
  {
   "cell_type": "code",
   "execution_count": 43,
   "metadata": {},
   "outputs": [],
   "source": [
    "def id_to_city(city_id):\n",
    "    return pd.read_csv('data/city_metadata.csv').iloc[[city_id]]\n",
    "#id_to_city(5)"
   ]
  },
  {
   "cell_type": "code",
   "execution_count": 6,
   "metadata": {},
   "outputs": [
    {
     "data": {
      "text/html": [
       "<div>\n",
       "<style scoped>\n",
       "    .dataframe tbody tr th:only-of-type {\n",
       "        vertical-align: middle;\n",
       "    }\n",
       "\n",
       "    .dataframe tbody tr th {\n",
       "        vertical-align: top;\n",
       "    }\n",
       "\n",
       "    .dataframe thead th {\n",
       "        text-align: right;\n",
       "    }\n",
       "</style>\n",
       "<table border=\"1\" class=\"dataframe\">\n",
       "  <thead>\n",
       "    <tr style=\"text-align: right;\">\n",
       "      <th></th>\n",
       "      <th>Average Household Income 2020/2021</th>\n",
       "      <th>Percent Change in Household Income, 1984-2019</th>\n",
       "      <th>Average Yearly Percent Change in Household Income, 1984-2019</th>\n",
       "      <th>MinWage</th>\n",
       "      <th>Percent Change in Housing Prices, 2000-2019</th>\n",
       "      <th>Average Yearly Percent Change in Housing Prices, 2000-2019</th>\n",
       "      <th>Average House Price 2020/2021</th>\n",
       "      <th>Violent Crime Total</th>\n",
       "      <th>Property Crime Total</th>\n",
       "      <th>Property Crime Per Capita</th>\n",
       "      <th>...</th>\n",
       "      <th>Transit</th>\n",
       "      <th>Walk</th>\n",
       "      <th>OtherTransp</th>\n",
       "      <th>WorkAtHome</th>\n",
       "      <th>MeanCommute</th>\n",
       "      <th>PrivateWork</th>\n",
       "      <th>PublicWork</th>\n",
       "      <th>SelfEmployed</th>\n",
       "      <th>FamilyWork</th>\n",
       "      <th>Unemployment</th>\n",
       "    </tr>\n",
       "  </thead>\n",
       "  <tbody>\n",
       "    <tr>\n",
       "      <th>0</th>\n",
       "      <td>-1.244475</td>\n",
       "      <td>0.682348</td>\n",
       "      <td>0.682348</td>\n",
       "      <td>-1.13437</td>\n",
       "      <td>-1.424617</td>\n",
       "      <td>-1.424617</td>\n",
       "      <td>-0.530148</td>\n",
       "      <td>-0.106718</td>\n",
       "      <td>-0.127941</td>\n",
       "      <td>1.084368</td>\n",
       "      <td>...</td>\n",
       "      <td>-0.594826</td>\n",
       "      <td>-0.742922</td>\n",
       "      <td>-1.335937</td>\n",
       "      <td>-1.240936</td>\n",
       "      <td>-0.374992</td>\n",
       "      <td>-0.154439</td>\n",
       "      <td>0.004864</td>\n",
       "      <td>0.328125</td>\n",
       "      <td>0.041230</td>\n",
       "      <td>-0.018375</td>\n",
       "    </tr>\n",
       "    <tr>\n",
       "      <th>1</th>\n",
       "      <td>-1.244475</td>\n",
       "      <td>0.682348</td>\n",
       "      <td>0.682348</td>\n",
       "      <td>-1.13437</td>\n",
       "      <td>-0.357814</td>\n",
       "      <td>-0.357814</td>\n",
       "      <td>-0.754485</td>\n",
       "      <td>-0.125265</td>\n",
       "      <td>-0.149551</td>\n",
       "      <td>1.143645</td>\n",
       "      <td>...</td>\n",
       "      <td>-0.596985</td>\n",
       "      <td>-1.132559</td>\n",
       "      <td>-0.880312</td>\n",
       "      <td>-0.555329</td>\n",
       "      <td>-0.708592</td>\n",
       "      <td>0.379059</td>\n",
       "      <td>-0.150118</td>\n",
       "      <td>-0.545845</td>\n",
       "      <td>0.117471</td>\n",
       "      <td>0.980909</td>\n",
       "    </tr>\n",
       "    <tr>\n",
       "      <th>2</th>\n",
       "      <td>-1.244475</td>\n",
       "      <td>0.682348</td>\n",
       "      <td>0.682348</td>\n",
       "      <td>-1.13437</td>\n",
       "      <td>-0.324323</td>\n",
       "      <td>-0.324323</td>\n",
       "      <td>-0.237935</td>\n",
       "      <td>-0.070466</td>\n",
       "      <td>0.023579</td>\n",
       "      <td>-0.302775</td>\n",
       "      <td>...</td>\n",
       "      <td>-0.458780</td>\n",
       "      <td>0.425989</td>\n",
       "      <td>-0.465186</td>\n",
       "      <td>-0.974311</td>\n",
       "      <td>-0.977773</td>\n",
       "      <td>-0.483073</td>\n",
       "      <td>1.150718</td>\n",
       "      <td>-1.026759</td>\n",
       "      <td>-0.416213</td>\n",
       "      <td>-0.200487</td>\n",
       "    </tr>\n",
       "    <tr>\n",
       "      <th>3</th>\n",
       "      <td>-1.244475</td>\n",
       "      <td>0.682348</td>\n",
       "      <td>0.682348</td>\n",
       "      <td>-1.13437</td>\n",
       "      <td>-0.324323</td>\n",
       "      <td>-0.324323</td>\n",
       "      <td>-0.237935</td>\n",
       "      <td>-0.070466</td>\n",
       "      <td>0.023579</td>\n",
       "      <td>-0.302775</td>\n",
       "      <td>...</td>\n",
       "      <td>-0.458780</td>\n",
       "      <td>0.425989</td>\n",
       "      <td>-0.465186</td>\n",
       "      <td>-0.974311</td>\n",
       "      <td>-0.977773</td>\n",
       "      <td>-0.483073</td>\n",
       "      <td>1.150718</td>\n",
       "      <td>-1.026759</td>\n",
       "      <td>-0.416213</td>\n",
       "      <td>-0.200487</td>\n",
       "    </tr>\n",
       "    <tr>\n",
       "      <th>4</th>\n",
       "      <td>-1.244475</td>\n",
       "      <td>0.682348</td>\n",
       "      <td>0.682348</td>\n",
       "      <td>-1.13437</td>\n",
       "      <td>-0.324323</td>\n",
       "      <td>-0.324323</td>\n",
       "      <td>-0.237935</td>\n",
       "      <td>-0.070466</td>\n",
       "      <td>0.023579</td>\n",
       "      <td>-0.302775</td>\n",
       "      <td>...</td>\n",
       "      <td>-0.458780</td>\n",
       "      <td>0.425989</td>\n",
       "      <td>-0.465186</td>\n",
       "      <td>-0.974311</td>\n",
       "      <td>-0.977773</td>\n",
       "      <td>-0.483073</td>\n",
       "      <td>1.150718</td>\n",
       "      <td>-1.026759</td>\n",
       "      <td>-0.416213</td>\n",
       "      <td>-0.200487</td>\n",
       "    </tr>\n",
       "  </tbody>\n",
       "</table>\n",
       "<p>5 rows × 44 columns</p>\n",
       "</div>"
      ],
      "text/plain": [
       "   Average Household Income 2020/2021  \\\n",
       "0                           -1.244475   \n",
       "1                           -1.244475   \n",
       "2                           -1.244475   \n",
       "3                           -1.244475   \n",
       "4                           -1.244475   \n",
       "\n",
       "   Percent Change in Household Income, 1984-2019  \\\n",
       "0                                       0.682348   \n",
       "1                                       0.682348   \n",
       "2                                       0.682348   \n",
       "3                                       0.682348   \n",
       "4                                       0.682348   \n",
       "\n",
       "   Average Yearly Percent Change in Household Income, 1984-2019  MinWage  \\\n",
       "0                                           0.682348            -1.13437   \n",
       "1                                           0.682348            -1.13437   \n",
       "2                                           0.682348            -1.13437   \n",
       "3                                           0.682348            -1.13437   \n",
       "4                                           0.682348            -1.13437   \n",
       "\n",
       "   Percent Change in Housing Prices, 2000-2019  \\\n",
       "0                                    -1.424617   \n",
       "1                                    -0.357814   \n",
       "2                                    -0.324323   \n",
       "3                                    -0.324323   \n",
       "4                                    -0.324323   \n",
       "\n",
       "   Average Yearly Percent Change in Housing Prices, 2000-2019  \\\n",
       "0                                          -1.424617            \n",
       "1                                          -0.357814            \n",
       "2                                          -0.324323            \n",
       "3                                          -0.324323            \n",
       "4                                          -0.324323            \n",
       "\n",
       "   Average House Price 2020/2021  Violent Crime Total  Property Crime Total  \\\n",
       "0                      -0.530148            -0.106718             -0.127941   \n",
       "1                      -0.754485            -0.125265             -0.149551   \n",
       "2                      -0.237935            -0.070466              0.023579   \n",
       "3                      -0.237935            -0.070466              0.023579   \n",
       "4                      -0.237935            -0.070466              0.023579   \n",
       "\n",
       "   Property Crime Per Capita  ...   Transit      Walk  OtherTransp  \\\n",
       "0                   1.084368  ... -0.594826 -0.742922    -1.335937   \n",
       "1                   1.143645  ... -0.596985 -1.132559    -0.880312   \n",
       "2                  -0.302775  ... -0.458780  0.425989    -0.465186   \n",
       "3                  -0.302775  ... -0.458780  0.425989    -0.465186   \n",
       "4                  -0.302775  ... -0.458780  0.425989    -0.465186   \n",
       "\n",
       "   WorkAtHome  MeanCommute  PrivateWork  PublicWork  SelfEmployed  FamilyWork  \\\n",
       "0   -1.240936    -0.374992    -0.154439    0.004864      0.328125    0.041230   \n",
       "1   -0.555329    -0.708592     0.379059   -0.150118     -0.545845    0.117471   \n",
       "2   -0.974311    -0.977773    -0.483073    1.150718     -1.026759   -0.416213   \n",
       "3   -0.974311    -0.977773    -0.483073    1.150718     -1.026759   -0.416213   \n",
       "4   -0.974311    -0.977773    -0.483073    1.150718     -1.026759   -0.416213   \n",
       "\n",
       "   Unemployment  \n",
       "0     -0.018375  \n",
       "1      0.980909  \n",
       "2     -0.200487  \n",
       "3     -0.200487  \n",
       "4     -0.200487  \n",
       "\n",
       "[5 rows x 44 columns]"
      ]
     },
     "execution_count": 6,
     "metadata": {},
     "output_type": "execute_result"
    }
   ],
   "source": [
    "city_df = cities.drop(columns = meta_columns)\n",
    "city_df.head()"
   ]
  },
  {
   "cell_type": "code",
   "execution_count": 7,
   "metadata": {},
   "outputs": [
    {
     "data": {
      "text/plain": [
       "44"
      ]
     },
     "execution_count": 7,
     "metadata": {},
     "output_type": "execute_result"
    }
   ],
   "source": [
    "city_columns = list(enumerate(city_df.columns))\n",
    "len(city_columns)"
   ]
  },
  {
   "cell_type": "code",
   "execution_count": 8,
   "metadata": {},
   "outputs": [
    {
     "name": "stdout",
     "output_type": "stream",
     "text": [
      "16584\n"
     ]
    },
    {
     "data": {
      "text/plain": [
       "array([[-1.24447506,  0.682348  ,  0.682348  , -1.13437038, -1.42461722,\n",
       "        -1.42461722, -0.53014839, -0.1067177 , -0.12794116,  1.08436765,\n",
       "         0.59758624,  1.07033325, -0.43784239, -0.43645572, -0.43915686,\n",
       "        -0.46518461, -0.45130875, -0.08653261,  0.68502292, -0.66791656,\n",
       "        -0.14496326, -0.67293528, -0.30617702, -1.1345026 , -0.9849128 ,\n",
       "         1.12373331,  1.55060446, -0.86210883, -0.93632036, -0.71552672,\n",
       "         1.0156942 ,  1.49140623,  0.94758088,  0.77191128, -0.59482555,\n",
       "        -0.74292187, -1.33593746, -1.24093599, -0.37499169, -0.15443879,\n",
       "         0.00486432,  0.32812539,  0.04123045, -0.01837476]])"
      ]
     },
     "execution_count": 8,
     "metadata": {},
     "output_type": "execute_result"
    }
   ],
   "source": [
    "city_data = np.array(city_df)\n",
    "print(len(city_data))\n",
    "city_data[:1, :]"
   ]
  },
  {
   "cell_type": "code",
   "execution_count": 35,
   "metadata": {},
   "outputs": [
    {
     "data": {
      "text/plain": [
       "array([15781, 15780, 15784, 15782, 15783])"
      ]
     },
     "execution_count": 35,
     "metadata": {},
     "output_type": "execute_result"
    }
   ],
   "source": [
    "def get_nn(city_id, n = 5):\n",
    "    \"\"\"\n",
    "        Args:\n",
    "            city_id: int\n",
    "            n: int\n",
    "        Return:\n",
    "            nearest_neighbors: (n,) ndarray, where nearest_neighbors[i] is the city_id of the i'th most similar city\n",
    "    \"\"\"\n",
    "    rows_per_files = 100\n",
    "    start_index = city_id - city_id % rows_per_files\n",
    "    end_index = start_index + rows_per_files\n",
    "    address = 'data/city_distances/city_' + str(start_index) + '_' + str(end_index) + '.npy'\n",
    "    dta = np.load(address, allow_pickle = True)\n",
    "    #dta = np.genfromtxt(address, delimiter = ',')\n",
    "    this_index = city_id % rows_per_files\n",
    "    d = dta[this_index, :n].astype(int)\n",
    "    return d\n",
    "#get_nn(15780, 5)"
   ]
  },
  {
   "cell_type": "code",
   "execution_count": 31,
   "metadata": {},
   "outputs": [],
   "source": [
    "#Only change to True if you want to recalculate distance csvs\n",
    "if True:\n",
    "    rows = city_data.shape[0]\n",
    "    rows_per_file = 100\n",
    "    files = int(rows/rows_per_file)\n",
    "    for i in range(files):\n",
    "        start_index = i * rows_per_file\n",
    "        end_index = (i+1) * rows_per_file\n",
    "        address = 'data/city_distances/city_' + str(start_index) + '_' + str(end_index)\n",
    "        one_city = city_data[start_index:end_index, :]\n",
    "        d = pairwise_dist(one_city, city_data)\n",
    "        smallest_to_largest = np.argsort(d)\n",
    "        #smallest_to_largest.tofile(address, sep = ',')\n",
    "        np.save(address, smallest_to_largest, allow_pickle = True)\n",
    "    address = 'data/city_distances/city_' + str(rows_per_file * (files)) + '_' + str(rows_per_file * (files + 1))\n",
    "    one_city = city_data[start_index:end_index, :]\n",
    "    d = pairwise_dist(one_city, city_data)\n",
    "    smallest_to_largest = np.argsort(d)\n",
    "\n",
    "    #smallest_to_largest.tofile(address, sep = ',')\n",
    "\n",
    "    np.save(address, smallest_to_largest, allow_pickle = True)\n",
    "    del address\n",
    "    del one_city\n",
    "    del d\n",
    "    del smallest_to_largest"
   ]
  },
  {
   "cell_type": "code",
   "execution_count": 28,
   "metadata": {},
   "outputs": [
    {
     "data": {
      "text/plain": [
       "16584"
      ]
     },
     "execution_count": 28,
     "metadata": {},
     "output_type": "execute_result"
    }
   ],
   "source": [
    "city_data.shape[0]"
   ]
  }
 ],
 "metadata": {
  "kernelspec": {
   "display_name": "Python 3.10.4 ('myenv')",
   "language": "python",
   "name": "python3"
  },
  "language_info": {
   "codemirror_mode": {
    "name": "ipython",
    "version": 3
   },
   "file_extension": ".py",
   "mimetype": "text/x-python",
   "name": "python",
   "nbconvert_exporter": "python",
   "pygments_lexer": "ipython3",
   "version": "3.10.4"
  },
  "orig_nbformat": 4,
  "vscode": {
   "interpreter": {
    "hash": "3507e71292749f35cb3a547d6116ee2ad4f8184acfe783909fd050bcebdd88ca"
   }
  }
 },
 "nbformat": 4,
 "nbformat_minor": 2
}
